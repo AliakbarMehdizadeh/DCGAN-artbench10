{
 "cells": [
  {
   "cell_type": "markdown",
   "id": "066e4601-571c-4982-a693-c473ac4eeff7",
   "metadata": {},
   "source": [
    "### Imports"
   ]
  },
  {
   "cell_type": "code",
   "execution_count": 1,
   "id": "c7bb11d0-b037-4087-acee-9da0acc98fa1",
   "metadata": {},
   "outputs": [],
   "source": [
    "import torch\n",
    "import torch.nn as nn\n",
    "import torch.optim as optim\n",
    "import torchvision \n",
    "import torchvision.transforms as transforms\n",
    "from torch.utils.data import DataLoader"
   ]
  },
  {
   "cell_type": "markdown",
   "id": "6d5b9151-82c9-4317-b8d6-4963e1de9a5e",
   "metadata": {},
   "source": [
    "### Generator Class"
   ]
  },
  {
   "cell_type": "code",
   "execution_count": 6,
   "id": "5455d0d4-2fdf-4292-ab39-935f8edd3eab",
   "metadata": {},
   "outputs": [],
   "source": [
    "class Generator(nn.Module):\n",
    "    def __init__(self, laten_dim, channels):\n",
    "        super(Generator, self).__init__()\n",
    "        \n",
    "        self.latent_dim = latent_dim\n",
    "        self.channels = channels\n",
    "        \n",
    "        self.model = nn.Sequential(\n",
    "            nn.ConvTranspose2d(latent_dim, 512, 4, 1, 0, bias=False),\n",
    "            nn.BatchNorm2d(512),\n",
    "            nn.ReLU(True),\n",
    "            nn.ConvTranspose2d(512, 256, 4, 2, 1, bias=False),\n",
    "            nn.BatchNorm2d(256),\n",
    "            nn.ReLU(True),\n",
    "            nn.ConvTranspose2d(256, 128, 4, 2, 1, bias=False),\n",
    "            nn.BatchNorm2d(128),\n",
    "            nn.ReLU(True),\n",
    "            nn.ConvTranspose2d(128, 64, 4, 2, 1, bias=False),\n",
    "            nn.BatchNorm2d(64),\n",
    "            nn.ReLU(True),\n",
    "            nn.ConvTranspose2d(64, channels, 4, 2, 1, bias=False),\n",
    "            nn.Tanh()\n",
    "        )\n",
    "    \n",
    "    def forward(self, input):\n",
    "        return model(input)"
   ]
  },
  {
   "cell_type": "markdown",
   "id": "4d4ac701-efd2-4ecb-81ab-7a6cdc91ae50",
   "metadata": {},
   "source": [
    "### Discriminator Class"
   ]
  },
  {
   "cell_type": "code",
   "execution_count": 8,
   "id": "c4ae55f9-77d9-4664-b6d2-d1eaa56b9eb0",
   "metadata": {},
   "outputs": [],
   "source": [
    "class Discriminator(nn.Module):\n",
    "    def __init__(self, channels):\n",
    "        super(Discriminator, self).__init__()\n",
    "        self.channels = channels\n",
    "\n",
    "        self.model = nn.Sequential(\n",
    "                    nn.Conv2d(channels, 64, 4, 2, 1, bias=False),\n",
    "                    nn.LeakyReLU(0.2, inplace=True),\n",
    "                    nn.Conv2d(64, 128, 4, 2, 1, bias=False),\n",
    "                    nn.BatchNorm2d(128),\n",
    "                    nn.LeakyReLU(0.2, inplace=True),\n",
    "                    nn.Conv2d(128, 256, 4, 2, 1, bias=False),\n",
    "                    nn.BatchNorm2d(256),\n",
    "                    nn.LeakyReLU(0.2, inplace=True),\n",
    "                    nn.Conv2d(256, 512, 4, 2, 1, bias=False),\n",
    "                    nn.BatchNorm2d(512),\n",
    "                    nn.LeakyReLU(0.2, inplace=True),\n",
    "                    nn.Conv2d(512, 1, 4, 1, 0, bias=False),\n",
    "                    nn.Sigmoid()\n",
    "                )\n",
    "    \n",
    "    def forward(self,input):\n",
    "        return self.model(input).view(-1, 1).squeeze(1)"
   ]
  },
  {
   "cell_type": "markdown",
   "id": "9bf72800-bc4b-48cb-8666-b86f0a0a3e2e",
   "metadata": {},
   "source": [
    "### TRAIN DCGAN (Deep Convolutional Adversarial Network)"
   ]
  },
  {
   "cell_type": "code",
   "execution_count": null,
   "id": "e8b4992c-95b1-4eeb-84af-775416e7c1e1",
   "metadata": {},
   "outputs": [],
   "source": []
  }
 ],
 "metadata": {
  "kernelspec": {
   "display_name": "GAN",
   "language": "python",
   "name": "env"
  },
  "language_info": {
   "codemirror_mode": {
    "name": "ipython",
    "version": 3
   },
   "file_extension": ".py",
   "mimetype": "text/x-python",
   "name": "python",
   "nbconvert_exporter": "python",
   "pygments_lexer": "ipython3",
   "version": "3.8.5"
  }
 },
 "nbformat": 4,
 "nbformat_minor": 5
}
